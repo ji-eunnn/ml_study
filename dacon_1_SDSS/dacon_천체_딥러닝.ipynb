{
 "cells": [
  {
   "cell_type": "code",
   "execution_count": 2,
   "metadata": {},
   "outputs": [],
   "source": [
    "from IPython.core.interactiveshell import InteractiveShell\n",
    "InteractiveShell.ast_node_interactivity = \"all\"\n",
    "import pandas as pd"
   ]
  },
  {
   "cell_type": "code",
   "execution_count": 3,
   "metadata": {},
   "outputs": [],
   "source": [
    "train = pd.read_csv(\"C:/dataset/dacon_SDSS/train.csv\", index_col=0)\n",
    "test = pd.read_csv(\"C:/dataset/dacon_SDSS/test.csv\", index_col=0)\n",
    "sample_submission = pd.read_csv(\"C:/dataset/dacon_SDSS/sample_submission.csv\", index_col=0)"
   ]
  },
  {
   "cell_type": "code",
   "execution_count": 4,
   "metadata": {},
   "outputs": [],
   "source": [
    "train2 = train.copy()\n",
    "train2 = train2.drop(['fiberID'], axis=1)"
   ]
  },
  {
   "cell_type": "code",
   "execution_count": 5,
   "metadata": {},
   "outputs": [],
   "source": [
    "test2 = test.copy()\n",
    "test2 = test.drop(['fiberID'], axis=1)"
   ]
  },
  {
   "cell_type": "code",
   "execution_count": 6,
   "metadata": {},
   "outputs": [],
   "source": [
    "# 레이블과 입력 테이블로 분리\n",
    "y = train2.loc[:,'type']\n",
    "X = train2.drop(['type'], axis=1)"
   ]
  },
  {
   "cell_type": "code",
   "execution_count": 7,
   "metadata": {},
   "outputs": [
    {
     "data": {
      "text/plain": [
       "array([[0, 1, 0, ..., 0, 0, 0],\n",
       "       [0, 1, 0, ..., 0, 0, 0],\n",
       "       [0, 1, 0, ..., 0, 0, 0],\n",
       "       ...,\n",
       "       [0, 0, 0, ..., 1, 0, 0],\n",
       "       [1, 0, 0, ..., 0, 0, 0],\n",
       "       [0, 1, 0, ..., 0, 0, 0]], dtype=uint8)"
      ]
     },
     "execution_count": 7,
     "metadata": {},
     "output_type": "execute_result"
    }
   ],
   "source": [
    "# 문자열로된 이름에 번호를 붙이고(LabelEncoder) 그 번호를 원핫인코딩 방식으로 펼치기\n",
    "\n",
    "from sklearn.preprocessing import LabelEncoder\n",
    "\n",
    "encoder =  LabelEncoder()\n",
    "y1 = encoder.fit_transform(y)\n",
    "Y = pd.get_dummies(y1).values\n",
    "Y"
   ]
  },
  {
   "cell_type": "code",
   "execution_count": 8,
   "metadata": {},
   "outputs": [],
   "source": [
    "# 스케일링\n",
    "from sklearn.preprocessing import MinMaxScaler\n",
    "\n",
    "scaler = MinMaxScaler()\n",
    "X_scaled = scaler.fit_transform(X)"
   ]
  },
  {
   "cell_type": "code",
   "execution_count": 9,
   "metadata": {},
   "outputs": [],
   "source": [
    "# 학습 데이터와 평가 데이터로 분리하기 \n",
    "from sklearn.model_selection import train_test_split\n",
    "\n",
    "x_train, x_test, y_train, y_test = train_test_split(\n",
    "                                    X_scaled, Y, test_size=0.2)\n",
    "\n",
    "x_val, x_test, y_val, y_test = train_test_split( # train 60 val 20 test 20 으로 분할\n",
    "    x_test, y_test, random_state=66, test_size=0.5)\n"
   ]
  },
  {
   "cell_type": "code",
   "execution_count": 10,
   "metadata": {},
   "outputs": [
    {
     "data": {
      "text/plain": [
       "((159992, 20), (20000, 20), (159992, 19), (20000, 19))"
      ]
     },
     "execution_count": 10,
     "metadata": {},
     "output_type": "execute_result"
    }
   ],
   "source": [
    "x_train.shape, x_test.shape, y_train.shape, y_test.shape"
   ]
  },
  {
   "cell_type": "code",
   "execution_count": 11,
   "metadata": {},
   "outputs": [
    {
     "name": "stderr",
     "output_type": "stream",
     "text": [
      "Using TensorFlow backend.\n"
     ]
    },
    {
     "name": "stdout",
     "output_type": "stream",
     "text": [
      "Model: \"sequential_1\"\n",
      "_________________________________________________________________\n",
      "Layer (type)                 Output Shape              Param #   \n",
      "=================================================================\n",
      "dense_1 (Dense)              (None, 768)               16128     \n",
      "_________________________________________________________________\n",
      "dense_2 (Dense)              (None, 512)               393728    \n",
      "_________________________________________________________________\n",
      "dense_3 (Dense)              (None, 256)               131328    \n",
      "_________________________________________________________________\n",
      "dropout_1 (Dropout)          (None, 256)               0         \n",
      "_________________________________________________________________\n",
      "dense_4 (Dense)              (None, 64)                16448     \n",
      "_________________________________________________________________\n",
      "dropout_2 (Dropout)          (None, 64)                0         \n",
      "_________________________________________________________________\n",
      "dense_5 (Dense)              (None, 32)                2080      \n",
      "_________________________________________________________________\n",
      "dropout_3 (Dropout)          (None, 32)                0         \n",
      "_________________________________________________________________\n",
      "dense_6 (Dense)              (None, 19)                627       \n",
      "=================================================================\n",
      "Total params: 560,339\n",
      "Trainable params: 560,339\n",
      "Non-trainable params: 0\n",
      "_________________________________________________________________\n"
     ]
    }
   ],
   "source": [
    "# 모델의 설정\n",
    "from keras.utils import np_utils\n",
    "from keras.models import Sequential\n",
    "from keras.layers import Dense, LSTM, Dropout\n",
    "from keras.callbacks import EarlyStopping\n",
    "\n",
    "model = Sequential()\n",
    "model.add(Dense(256*3, input_dim=20, activation='relu'))\n",
    "model.add(Dense(256*2, activation='relu'))\n",
    "model.add(Dense(256, activation='relu'))\n",
    "model.add(Dropout(0.5))\n",
    "model.add(Dense(64, activation='relu'))\n",
    "model.add(Dropout(0.5))\n",
    "model.add(Dense(32, activation='relu'))\n",
    "model.add(Dropout(0.5))\n",
    "model.add(Dense(19, activation='softmax'))\n",
    "\n",
    "model.summary()"
   ]
  },
  {
   "cell_type": "code",
   "execution_count": 12,
   "metadata": {},
   "outputs": [],
   "source": [
    "# 모델 최적화 설정\n",
    "early_stopping = EarlyStopping(monitor='val_loss', patience=30, mode='auto')"
   ]
  },
  {
   "cell_type": "code",
   "execution_count": 13,
   "metadata": {},
   "outputs": [
    {
     "name": "stdout",
     "output_type": "stream",
     "text": [
      "Train on 159992 samples, validate on 19999 samples\n",
      "Epoch 1/200\n",
      "159992/159992 [==============================] - 18s 113us/step - loss: 2.4206 - accuracy: 0.2266 - val_loss: 2.3139 - val_accuracy: 0.2496\n",
      "Epoch 2/200\n",
      "159992/159992 [==============================] - 17s 109us/step - loss: 2.3326 - accuracy: 0.2469 - val_loss: 2.3074 - val_accuracy: 0.2496\n",
      "Epoch 3/200\n",
      "159992/159992 [==============================] - 18s 111us/step - loss: 2.3193 - accuracy: 0.2484 - val_loss: 2.3068 - val_accuracy: 0.2496\n",
      "Epoch 4/200\n",
      "159992/159992 [==============================] - 18s 111us/step - loss: 2.3146 - accuracy: 0.2484 - val_loss: 2.3065 - val_accuracy: 0.2496\n",
      "Epoch 5/200\n",
      "159992/159992 [==============================] - 18s 111us/step - loss: 2.3119 - accuracy: 0.2484 - val_loss: 2.3063 - val_accuracy: 0.2496\n",
      "Epoch 6/200\n",
      "159992/159992 [==============================] - 18s 111us/step - loss: 2.3092 - accuracy: 0.2484 - val_loss: 2.3061 - val_accuracy: 0.2496\n",
      "Epoch 7/200\n",
      "159992/159992 [==============================] - 18s 110us/step - loss: 2.3077 - accuracy: 0.2484 - val_loss: 2.3066 - val_accuracy: 0.2496\n",
      "Epoch 8/200\n",
      "159992/159992 [==============================] - 18s 115us/step - loss: 2.3074 - accuracy: 0.2484 - val_loss: 2.3061 - val_accuracy: 0.2496\n",
      "Epoch 9/200\n",
      "159992/159992 [==============================] - 19s 121us/step - loss: 2.3067 - accuracy: 0.2484 - val_loss: 2.3058 - val_accuracy: 0.2496\n",
      "Epoch 10/200\n",
      "159992/159992 [==============================] - 18s 110us/step - loss: 2.3064 - accuracy: 0.2484 - val_loss: 2.3062 - val_accuracy: 0.2496\n",
      "Epoch 11/200\n",
      "159992/159992 [==============================] - 18s 113us/step - loss: 2.3057 - accuracy: 0.2484 - val_loss: 2.3060 - val_accuracy: 0.2496\n",
      "Epoch 12/200\n",
      "159992/159992 [==============================] - 18s 113us/step - loss: 2.3052 - accuracy: 0.2484 - val_loss: 2.3062 - val_accuracy: 0.2496\n",
      "Epoch 13/200\n",
      "159992/159992 [==============================] - 16s 101us/step - loss: 2.3053 - accuracy: 0.2484 - val_loss: 2.3060 - val_accuracy: 0.2496\n",
      "Epoch 14/200\n",
      "159992/159992 [==============================] - 17s 104us/step - loss: 2.3049 - accuracy: 0.2484 - val_loss: 2.3059 - val_accuracy: 0.2496\n",
      "Epoch 15/200\n",
      "159992/159992 [==============================] - 17s 107us/step - loss: 2.3048 - accuracy: 0.2484 - val_loss: 2.3059 - val_accuracy: 0.2496\n",
      "Epoch 16/200\n",
      "159992/159992 [==============================] - 19s 120us/step - loss: 2.3046 - accuracy: 0.2484 - val_loss: 2.3060 - val_accuracy: 0.2496\n",
      "Epoch 17/200\n",
      "159992/159992 [==============================] - 17s 104us/step - loss: 2.3046 - accuracy: 0.2484 - val_loss: 2.3060 - val_accuracy: 0.2496\n",
      "Epoch 18/200\n",
      "159992/159992 [==============================] - 17s 104us/step - loss: 2.3044 - accuracy: 0.2484 - val_loss: 2.3060 - val_accuracy: 0.2496\n",
      "Epoch 19/200\n",
      "159992/159992 [==============================] - 17s 105us/step - loss: 2.3042 - accuracy: 0.2484 - val_loss: 2.3059 - val_accuracy: 0.2496\n",
      "Epoch 20/200\n",
      "159992/159992 [==============================] - 16s 101us/step - loss: 2.3040 - accuracy: 0.2484 - val_loss: 2.3061 - val_accuracy: 0.2496\n",
      "Epoch 21/200\n",
      "159992/159992 [==============================] - 16s 102us/step - loss: 2.3042 - accuracy: 0.2484 - val_loss: 2.3058 - val_accuracy: 0.2496\n",
      "Epoch 22/200\n",
      "159992/159992 [==============================] - 18s 113us/step - loss: 2.3039 - accuracy: 0.2484 - val_loss: 2.3060 - val_accuracy: 0.2496\n",
      "Epoch 23/200\n",
      "159992/159992 [==============================] - 17s 107us/step - loss: 2.3039 - accuracy: 0.2484 - val_loss: 2.3059 - val_accuracy: 0.2496\n",
      "Epoch 24/200\n",
      "159992/159992 [==============================] - 17s 109us/step - loss: 2.3039 - accuracy: 0.2484 - val_loss: 2.3059 - val_accuracy: 0.2496\n",
      "Epoch 25/200\n",
      "159992/159992 [==============================] - 16s 101us/step - loss: 2.3038 - accuracy: 0.2484 - val_loss: 2.3059 - val_accuracy: 0.2496\n",
      "Epoch 26/200\n",
      "159992/159992 [==============================] - 16s 102us/step - loss: 2.3037 - accuracy: 0.2484 - val_loss: 2.3059 - val_accuracy: 0.2496\n",
      "Epoch 27/200\n",
      "159992/159992 [==============================] - 18s 113us/step - loss: 2.3038 - accuracy: 0.2484 - val_loss: 2.3060 - val_accuracy: 0.2496\n",
      "Epoch 28/200\n",
      "159992/159992 [==============================] - 18s 113us/step - loss: 2.3037 - accuracy: 0.2484 - val_loss: 2.3059 - val_accuracy: 0.2496s - loss: 2\n",
      "Epoch 29/200\n",
      "159992/159992 [==============================] - 18s 113us/step - loss: 2.3037 - accuracy: 0.2484 - val_loss: 2.3061 - val_accuracy: 0.2496\n",
      "Epoch 30/200\n",
      "159992/159992 [==============================] - 18s 112us/step - loss: 2.3037 - accuracy: 0.2484 - val_loss: 2.3060 - val_accuracy: 0.2496\n",
      "Epoch 31/200\n",
      "159992/159992 [==============================] - 18s 112us/step - loss: 2.3035 - accuracy: 0.2484 - val_loss: 2.3060 - val_accuracy: 0.2496\n",
      "Epoch 32/200\n",
      "159992/159992 [==============================] - 19s 121us/step - loss: 2.3035 - accuracy: 0.2484 - val_loss: 2.3060 - val_accuracy: 0.2496\n",
      "Epoch 33/200\n",
      "159992/159992 [==============================] - 19s 118us/step - loss: 2.3035 - accuracy: 0.2484 - val_loss: 2.3062 - val_accuracy: 0.2496\n",
      "Epoch 34/200\n",
      "159992/159992 [==============================] - 17s 107us/step - loss: 2.3036 - accuracy: 0.2484 - val_loss: 2.3060 - val_accuracy: 0.2496\n",
      "Epoch 35/200\n",
      "159992/159992 [==============================] - 17s 108us/step - loss: 2.3034 - accuracy: 0.2484 - val_loss: 2.3059 - val_accuracy: 0.2496\n",
      "Epoch 36/200\n",
      "159992/159992 [==============================] - 19s 117us/step - loss: 2.3035 - accuracy: 0.2484 - val_loss: 2.3061 - val_accuracy: 0.2496\n",
      "Epoch 37/200\n",
      "159992/159992 [==============================] - 18s 113us/step - loss: 2.3034 - accuracy: 0.2484 - val_loss: 2.3058 - val_accuracy: 0.2496\n",
      "Epoch 38/200\n",
      "159992/159992 [==============================] - 19s 116us/step - loss: 2.3035 - accuracy: 0.2484 - val_loss: 2.3061 - val_accuracy: 0.2496\n",
      "Epoch 39/200\n",
      "159992/159992 [==============================] - 19s 118us/step - loss: 2.3034 - accuracy: 0.2484 - val_loss: 2.3059 - val_accuracy: 0.2496\n",
      "Epoch 40/200\n",
      "159992/159992 [==============================] - 19s 118us/step - loss: 2.3034 - accuracy: 0.2484 - val_loss: 2.3060 - val_accuracy: 0.2496\n",
      "Epoch 41/200\n",
      "159992/159992 [==============================] - 20s 123us/step - loss: 2.3032 - accuracy: 0.2484 - val_loss: 2.3060 - val_accuracy: 0.2496\n",
      "Epoch 42/200\n",
      "159992/159992 [==============================] - 18s 115us/step - loss: 2.3033 - accuracy: 0.2484 - val_loss: 2.3059 - val_accuracy: 0.2496\n",
      "Epoch 43/200\n",
      "159992/159992 [==============================] - 19s 116us/step - loss: 2.3033 - accuracy: 0.2484 - val_loss: 2.3059 - val_accuracy: 0.2496\n",
      "Epoch 44/200\n",
      "159992/159992 [==============================] - 19s 120us/step - loss: 2.3033 - accuracy: 0.2484 - val_loss: 2.3060 - val_accuracy: 0.2496\n",
      "Epoch 45/200\n",
      "159992/159992 [==============================] - 18s 115us/step - loss: 2.3033 - accuracy: 0.2484 - val_loss: 2.3059 - val_accuracy: 0.2496\n",
      "Epoch 46/200\n",
      "159992/159992 [==============================] - 18s 113us/step - loss: 2.3033 - accuracy: 0.2484 - val_loss: 2.3058 - val_accuracy: 0.2496\n",
      "Epoch 47/200\n",
      "159992/159992 [==============================] - 18s 114us/step - loss: 2.3033 - accuracy: 0.2484 - val_loss: 2.3059 - val_accuracy: 0.2496\n",
      "Epoch 48/200\n",
      "159992/159992 [==============================] - 21s 134us/step - loss: 2.3031 - accuracy: 0.2484 - val_loss: 2.3060 - val_accuracy: 0.2496\n",
      "Epoch 49/200\n",
      "159992/159992 [==============================] - 22s 135us/step - loss: 2.3032 - accuracy: 0.2484 - val_loss: 2.3060 - val_accuracy: 0.2496\n",
      "Epoch 50/200\n",
      "159992/159992 [==============================] - 21s 133us/step - loss: 2.3032 - accuracy: 0.2484 - val_loss: 2.3059 - val_accuracy: 0.2496\n",
      "Epoch 51/200\n",
      "159992/159992 [==============================] - 20s 126us/step - loss: 2.3033 - accuracy: 0.2484 - val_loss: 2.3059 - val_accuracy: 0.2496\n"
     ]
    },
    {
     "data": {
      "text/plain": [
       "<keras.callbacks.callbacks.History at 0x1fe55a5c5f8>"
      ]
     },
     "execution_count": 13,
     "metadata": {},
     "output_type": "execute_result"
    }
   ],
   "source": [
    "# 학습\n",
    "model.compile(optimizer='adam', loss='categorical_crossentropy', metrics = ['accuracy'])\n",
    "model.fit(x_train, y_train, epochs=200, batch_size=256, \n",
    "         validation_data= (x_val, y_val), callbacks=[early_stopping] )\n"
   ]
  },
  {
   "cell_type": "code",
   "execution_count": 14,
   "metadata": {},
   "outputs": [
    {
     "name": "stdout",
     "output_type": "stream",
     "text": [
      "20000/20000 [==============================] - 27s 1ms/step\n",
      "loss :  2.3071784060657023\n",
      "acc :  0.24709999561309814\n",
      "y_predict(x_test) : \n",
      " [[0.18716322 0.2459928  0.0730236  ... 0.06892324 0.00599397 0.01084951]\n",
      " [0.18716322 0.2459928  0.0730236  ... 0.06892324 0.00599397 0.01084951]\n",
      " [0.18716322 0.2459928  0.0730236  ... 0.06892324 0.00599397 0.01084951]\n",
      " ...\n",
      " [0.18716322 0.2459928  0.0730236  ... 0.06892324 0.00599397 0.01084951]\n",
      " [0.18716322 0.2459928  0.0730236  ... 0.06892324 0.00599397 0.01084951]\n",
      " [0.18716322 0.2459928  0.0730236  ... 0.06892324 0.00599397 0.01084951]]\n",
      "log loss :  2.307178345477581\n"
     ]
    }
   ],
   "source": [
    "# 평가하기\n",
    "from sklearn.metrics import log_loss\n",
    "\n",
    "loss, acc = model.evaluate(x_test, y_test, batch_size=1)\n",
    "y_predict = model.predict(x_test)\n",
    "\n",
    "print('loss : ', loss)\n",
    "print('acc : ', acc)\n",
    "print('y_predict(x_test) : \\n', y_predict)\n",
    "print('log loss : ', log_loss(y_test, y_predict))"
   ]
  },
  {
   "cell_type": "code",
   "execution_count": 15,
   "metadata": {},
   "outputs": [
    {
     "data": {
      "text/plain": [
       "array([[0.18716322, 0.2459928 , 0.0730236 , ..., 0.06892324, 0.00599397,\n",
       "        0.01084951],\n",
       "       [0.18716322, 0.2459928 , 0.0730236 , ..., 0.06892324, 0.00599397,\n",
       "        0.01084951],\n",
       "       [0.18716322, 0.2459928 , 0.0730236 , ..., 0.06892324, 0.00599397,\n",
       "        0.01084951],\n",
       "       ...,\n",
       "       [0.18716322, 0.2459928 , 0.0730236 , ..., 0.06892324, 0.00599397,\n",
       "        0.01084951],\n",
       "       [0.18716322, 0.2459928 , 0.0730236 , ..., 0.06892324, 0.00599397,\n",
       "        0.01084951],\n",
       "       [0.18716322, 0.2459928 , 0.0730236 , ..., 0.06892324, 0.00599397,\n",
       "        0.01084951]], dtype=float32)"
      ]
     },
     "execution_count": 15,
     "metadata": {},
     "output_type": "execute_result"
    }
   ],
   "source": [
    "y_predict"
   ]
  },
  {
   "cell_type": "code",
   "execution_count": 16,
   "metadata": {},
   "outputs": [],
   "source": [
    "test_pred = model.predict(test2)"
   ]
  },
  {
   "cell_type": "code",
   "execution_count": 17,
   "metadata": {},
   "outputs": [
    {
     "data": {
      "text/plain": [
       "array([[2.3109405e-14, 1.0000000e+00, 1.8252771e-12, ..., 6.3836028e-12,\n",
       "        3.1022601e-20, 3.8714034e-18],\n",
       "       [1.8367616e-18, 1.0000000e+00, 7.2257363e-16, ..., 3.7643991e-15,\n",
       "        1.1711166e-25, 5.2848701e-23],\n",
       "       [3.7035057e-16, 1.0000000e+00, 5.8889600e-14, ..., 2.4592061e-13,\n",
       "        1.3193081e-22, 2.8814171e-20],\n",
       "       ...,\n",
       "       [7.5508859e-20, 1.0000000e+00, 5.1163119e-17, ..., 3.0533200e-16,\n",
       "        1.7132050e-27, 1.1967465e-24],\n",
       "       [5.2097652e-24, 1.0000000e+00, 1.8012816e-20, ..., 1.6199960e-19,\n",
       "        5.2597836e-33, 1.3711785e-29],\n",
       "       [4.3199051e-16, 1.0000000e+00, 6.7112053e-14, ..., 2.7793626e-13,\n",
       "        1.6203705e-22, 3.4652467e-20]], dtype=float32)"
      ]
     },
     "execution_count": 17,
     "metadata": {},
     "output_type": "execute_result"
    }
   ],
   "source": [
    "test_pred"
   ]
  },
  {
   "cell_type": "code",
   "execution_count": 18,
   "metadata": {},
   "outputs": [],
   "source": [
    "submission = pd.DataFrame(data=test_pred, columns=sample_submission.columns, index=sample_submission.index)\n",
    "submission.to_csv('submission.csv', index=True)"
   ]
  },
  {
   "cell_type": "code",
   "execution_count": 19,
   "metadata": {},
   "outputs": [
    {
     "data": {
      "text/html": [
       "<div>\n",
       "<style scoped>\n",
       "    .dataframe tbody tr th:only-of-type {\n",
       "        vertical-align: middle;\n",
       "    }\n",
       "\n",
       "    .dataframe tbody tr th {\n",
       "        vertical-align: top;\n",
       "    }\n",
       "\n",
       "    .dataframe thead th {\n",
       "        text-align: right;\n",
       "    }\n",
       "</style>\n",
       "<table border=\"1\" class=\"dataframe\">\n",
       "  <thead>\n",
       "    <tr style=\"text-align: right;\">\n",
       "      <th></th>\n",
       "      <th>STAR_WHITE_DWARF</th>\n",
       "      <th>STAR_CATY_VAR</th>\n",
       "      <th>STAR_BROWN_DWARF</th>\n",
       "      <th>SERENDIPITY_RED</th>\n",
       "      <th>REDDEN_STD</th>\n",
       "      <th>STAR_BHB</th>\n",
       "      <th>GALAXY</th>\n",
       "      <th>SERENDIPITY_DISTANT</th>\n",
       "      <th>QSO</th>\n",
       "      <th>SKY</th>\n",
       "      <th>STAR_RED_DWARF</th>\n",
       "      <th>ROSAT_D</th>\n",
       "      <th>STAR_PN</th>\n",
       "      <th>SERENDIPITY_FIRST</th>\n",
       "      <th>STAR_CARBON</th>\n",
       "      <th>SPECTROPHOTO_STD</th>\n",
       "      <th>STAR_SUB_DWARF</th>\n",
       "      <th>SERENDIPITY_MANUAL</th>\n",
       "      <th>SERENDIPITY_BLUE</th>\n",
       "    </tr>\n",
       "    <tr>\n",
       "      <th>id</th>\n",
       "      <th></th>\n",
       "      <th></th>\n",
       "      <th></th>\n",
       "      <th></th>\n",
       "      <th></th>\n",
       "      <th></th>\n",
       "      <th></th>\n",
       "      <th></th>\n",
       "      <th></th>\n",
       "      <th></th>\n",
       "      <th></th>\n",
       "      <th></th>\n",
       "      <th></th>\n",
       "      <th></th>\n",
       "      <th></th>\n",
       "      <th></th>\n",
       "      <th></th>\n",
       "      <th></th>\n",
       "      <th></th>\n",
       "    </tr>\n",
       "  </thead>\n",
       "  <tbody>\n",
       "    <tr>\n",
       "      <th>199991</th>\n",
       "      <td>2.310941e-14</td>\n",
       "      <td>1.0</td>\n",
       "      <td>1.825277e-12</td>\n",
       "      <td>4.960944e-09</td>\n",
       "      <td>7.046752e-10</td>\n",
       "      <td>1.834345e-08</td>\n",
       "      <td>4.982130e-12</td>\n",
       "      <td>0.0</td>\n",
       "      <td>4.098463e-19</td>\n",
       "      <td>0.0</td>\n",
       "      <td>3.200067e-11</td>\n",
       "      <td>2.424227e-12</td>\n",
       "      <td>8.718924e-32</td>\n",
       "      <td>2.540179e-10</td>\n",
       "      <td>4.356609e-13</td>\n",
       "      <td>0.0</td>\n",
       "      <td>6.383603e-12</td>\n",
       "      <td>3.102260e-20</td>\n",
       "      <td>3.871403e-18</td>\n",
       "    </tr>\n",
       "    <tr>\n",
       "      <th>199992</th>\n",
       "      <td>1.836762e-18</td>\n",
       "      <td>1.0</td>\n",
       "      <td>7.225736e-16</td>\n",
       "      <td>2.758404e-11</td>\n",
       "      <td>1.502377e-12</td>\n",
       "      <td>1.659012e-10</td>\n",
       "      <td>3.360794e-15</td>\n",
       "      <td>0.0</td>\n",
       "      <td>2.647816e-24</td>\n",
       "      <td>0.0</td>\n",
       "      <td>3.038236e-14</td>\n",
       "      <td>1.078683e-15</td>\n",
       "      <td>0.000000e+00</td>\n",
       "      <td>7.110155e-13</td>\n",
       "      <td>1.437425e-16</td>\n",
       "      <td>0.0</td>\n",
       "      <td>3.764399e-15</td>\n",
       "      <td>1.171117e-25</td>\n",
       "      <td>5.284870e-23</td>\n",
       "    </tr>\n",
       "    <tr>\n",
       "      <th>199993</th>\n",
       "      <td>3.703506e-16</td>\n",
       "      <td>1.0</td>\n",
       "      <td>5.888960e-14</td>\n",
       "      <td>5.106970e-10</td>\n",
       "      <td>4.763423e-11</td>\n",
       "      <td>2.334689e-09</td>\n",
       "      <td>2.037960e-13</td>\n",
       "      <td>0.0</td>\n",
       "      <td>2.188656e-21</td>\n",
       "      <td>0.0</td>\n",
       "      <td>1.516511e-12</td>\n",
       "      <td>8.248392e-14</td>\n",
       "      <td>1.220683e-35</td>\n",
       "      <td>1.935992e-11</td>\n",
       "      <td>1.302519e-14</td>\n",
       "      <td>0.0</td>\n",
       "      <td>2.459206e-13</td>\n",
       "      <td>1.319308e-22</td>\n",
       "      <td>2.881417e-20</td>\n",
       "    </tr>\n",
       "    <tr>\n",
       "      <th>199994</th>\n",
       "      <td>6.719383e-20</td>\n",
       "      <td>1.0</td>\n",
       "      <td>4.649596e-17</td>\n",
       "      <td>4.475938e-12</td>\n",
       "      <td>1.741066e-13</td>\n",
       "      <td>3.192904e-11</td>\n",
       "      <td>2.604966e-16</td>\n",
       "      <td>0.0</td>\n",
       "      <td>4.018318e-26</td>\n",
       "      <td>0.0</td>\n",
       "      <td>2.655505e-15</td>\n",
       "      <td>7.229593e-17</td>\n",
       "      <td>0.000000e+00</td>\n",
       "      <td>9.082582e-14</td>\n",
       "      <td>8.653346e-18</td>\n",
       "      <td>0.0</td>\n",
       "      <td>2.787077e-16</td>\n",
       "      <td>1.467317e-27</td>\n",
       "      <td>1.041884e-24</td>\n",
       "    </tr>\n",
       "    <tr>\n",
       "      <th>199995</th>\n",
       "      <td>7.116314e-13</td>\n",
       "      <td>1.0</td>\n",
       "      <td>3.136102e-11</td>\n",
       "      <td>3.262895e-08</td>\n",
       "      <td>6.579507e-09</td>\n",
       "      <td>1.010993e-07</td>\n",
       "      <td>7.063703e-11</td>\n",
       "      <td>0.0</td>\n",
       "      <td>3.143614e-17</td>\n",
       "      <td>0.0</td>\n",
       "      <td>4.004418e-10</td>\n",
       "      <td>3.993593e-11</td>\n",
       "      <td>1.393139e-28</td>\n",
       "      <td>2.147160e-09</td>\n",
       "      <td>8.008236e-12</td>\n",
       "      <td>0.0</td>\n",
       "      <td>9.478547e-11</td>\n",
       "      <td>2.905736e-18</td>\n",
       "      <td>2.265402e-16</td>\n",
       "    </tr>\n",
       "  </tbody>\n",
       "</table>\n",
       "</div>"
      ],
      "text/plain": [
       "        STAR_WHITE_DWARF  STAR_CATY_VAR  STAR_BROWN_DWARF  SERENDIPITY_RED  \\\n",
       "id                                                                           \n",
       "199991      2.310941e-14            1.0      1.825277e-12     4.960944e-09   \n",
       "199992      1.836762e-18            1.0      7.225736e-16     2.758404e-11   \n",
       "199993      3.703506e-16            1.0      5.888960e-14     5.106970e-10   \n",
       "199994      6.719383e-20            1.0      4.649596e-17     4.475938e-12   \n",
       "199995      7.116314e-13            1.0      3.136102e-11     3.262895e-08   \n",
       "\n",
       "          REDDEN_STD      STAR_BHB        GALAXY  SERENDIPITY_DISTANT  \\\n",
       "id                                                                      \n",
       "199991  7.046752e-10  1.834345e-08  4.982130e-12                  0.0   \n",
       "199992  1.502377e-12  1.659012e-10  3.360794e-15                  0.0   \n",
       "199993  4.763423e-11  2.334689e-09  2.037960e-13                  0.0   \n",
       "199994  1.741066e-13  3.192904e-11  2.604966e-16                  0.0   \n",
       "199995  6.579507e-09  1.010993e-07  7.063703e-11                  0.0   \n",
       "\n",
       "                 QSO  SKY  STAR_RED_DWARF       ROSAT_D       STAR_PN  \\\n",
       "id                                                                      \n",
       "199991  4.098463e-19  0.0    3.200067e-11  2.424227e-12  8.718924e-32   \n",
       "199992  2.647816e-24  0.0    3.038236e-14  1.078683e-15  0.000000e+00   \n",
       "199993  2.188656e-21  0.0    1.516511e-12  8.248392e-14  1.220683e-35   \n",
       "199994  4.018318e-26  0.0    2.655505e-15  7.229593e-17  0.000000e+00   \n",
       "199995  3.143614e-17  0.0    4.004418e-10  3.993593e-11  1.393139e-28   \n",
       "\n",
       "        SERENDIPITY_FIRST   STAR_CARBON  SPECTROPHOTO_STD  STAR_SUB_DWARF  \\\n",
       "id                                                                          \n",
       "199991       2.540179e-10  4.356609e-13               0.0    6.383603e-12   \n",
       "199992       7.110155e-13  1.437425e-16               0.0    3.764399e-15   \n",
       "199993       1.935992e-11  1.302519e-14               0.0    2.459206e-13   \n",
       "199994       9.082582e-14  8.653346e-18               0.0    2.787077e-16   \n",
       "199995       2.147160e-09  8.008236e-12               0.0    9.478547e-11   \n",
       "\n",
       "        SERENDIPITY_MANUAL  SERENDIPITY_BLUE  \n",
       "id                                            \n",
       "199991        3.102260e-20      3.871403e-18  \n",
       "199992        1.171117e-25      5.284870e-23  \n",
       "199993        1.319308e-22      2.881417e-20  \n",
       "199994        1.467317e-27      1.041884e-24  \n",
       "199995        2.905736e-18      2.265402e-16  "
      ]
     },
     "execution_count": 19,
     "metadata": {},
     "output_type": "execute_result"
    }
   ],
   "source": [
    "submission.head()"
   ]
  },
  {
   "cell_type": "code",
   "execution_count": 23,
   "metadata": {},
   "outputs": [],
   "source": [
    "submission.to_csv('C:/Users/jieun/jieunnnnn/dacon_SDSS/submission2.csv', index=True)"
   ]
  },
  {
   "cell_type": "raw",
   "metadata": {},
   "source": []
  }
 ],
 "metadata": {
  "kernelspec": {
   "display_name": "Python 3",
   "language": "python",
   "name": "python3"
  },
  "language_info": {
   "codemirror_mode": {
    "name": "ipython",
    "version": 3
   },
   "file_extension": ".py",
   "mimetype": "text/x-python",
   "name": "python",
   "nbconvert_exporter": "python",
   "pygments_lexer": "ipython3",
   "version": "3.7.3"
  }
 },
 "nbformat": 4,
 "nbformat_minor": 2
}
