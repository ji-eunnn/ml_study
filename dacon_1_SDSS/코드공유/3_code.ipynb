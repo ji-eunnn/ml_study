{
 "nbformat": 4,
 "nbformat_minor": 2,
 "metadata": {
  "language_info": {
   "name": "python",
   "codemirror_mode": {
    "name": "ipython",
    "version": 3
   },
   "version": "3.7.3-final"
  },
  "orig_nbformat": 2,
  "file_extension": ".py",
  "mimetype": "text/x-python",
  "name": "python",
  "npconvert_exporter": "python",
  "pygments_lexer": "ipython3",
  "version": 3,
  "kernelspec": {
   "name": "python37364bitbaseconda9aa2668b4a534e769b7aeb67f0eba195",
   "display_name": "Python 3.7.3 64-bit ('base': conda)"
  }
 },
 "cells": [
  {
   "cell_type": "markdown",
   "metadata": {},
   "source": [
    "https://dacon.io/competitions/official/235573/codeshare/694"
   ]
  },
  {
   "cell_type": "markdown",
   "metadata": {},
   "source": [
    "변수 생성\n",
    "- 기존 변수에 대해 사칙연산을 통해 유의미한 변수를 발견했습니다.\n",
    "- fIberID를 변형하여 유의미한 변수를 만들었습니다.\n",
    "\n",
    "\n",
    "모델 학습\n",
    "- 클래스가 불균형하여 파라미터에 매우 민감했다고 생각합니다.\n",
    "- 다른 모델의 성능이 좋지않아 스테킹 및 앙상블의 성능이 좋지 않았고 다른 모델에 신경쓰지 못한 부분이 아쉽습니다."
   ]
  },
  {
   "cell_type": "markdown",
   "metadata": {},
   "source": [
    "1. 라이브러리 및 데이터"
   ]
  },
  {
   "cell_type": "code",
   "execution_count": 2,
   "metadata": {},
   "outputs": [],
   "source": [
    "# basic\n",
    "import os\n",
    "import pandas as pd\n",
    "import numpy as np\n",
    "from tqdm import tqdm_notebook\n",
    "import re\n",
    "\n",
    "# plot\n",
    "import matplotlib.pyplot as plt\n",
    "import seaborn as sns\n",
    "%matplotlib inline\n",
    "\n",
    "# 경고메세지 무시\n",
    "import sys\n",
    "if not sys.warnoptions:\n",
    "    import warnings\n",
    "    warnings.simplefilter(\"ignore\")\n",
    "\n",
    "# fold\n",
    "from sklearn.model_selection import KFold,StratifiedKFold\n",
    "\n",
    "# 모델\n",
    "from xgboost import XGBClassifier\n",
    "import xgboost\n",
    "\n",
    "# 평가방법\n",
    "import sklearn\n",
    "from sklearn.metrics import log_loss"
   ]
  },
  {
   "cell_type": "code",
   "execution_count": null,
   "metadata": {},
   "outputs": [],
   "source": []
  }
 ]
}